{
 "cells": [
  {
   "cell_type": "code",
   "execution_count": 4,
   "metadata": {
    "collapsed": true
   },
   "outputs": [],
   "source": [
    "# -*- coding: utf-8 -*-\n",
    "\"\"\"\n",
    "Created on Mon Feb  6 10:10:48 2017\n",
    "\n",
    "@author: lhuan\n",
    "\"\"\"\n",
    "\n",
    "%matplotlib inline \n",
    "import pandas as pd\n",
    "import matplotlib.pyplot as plt\n",
    "import seaborn as sns\n",
    "import numpy as np\n",
    "from pandas import *\n",
    "import statsmodels.formula.api as sm\n",
    "import matplotlib\n",
    "matplotlib.style.use('ggplot')"
   ]
  },
  {
   "cell_type": "code",
   "execution_count": 5,
   "metadata": {
    "collapsed": false
   },
   "outputs": [
    {
     "data": {
      "text/plain": [
       "<seaborn.axisgrid.FacetGrid at 0x2483abbebe0>"
      ]
     },
     "execution_count": 5,
     "metadata": {},
     "output_type": "execute_result"
    },
    {
     "data": {
      "image/png": "[encoded data removed]",
      "text/plain": [
       "<matplotlib.figure.Figure at 0x2483aaae898>"
      ]
     },
     "metadata": {},
     "output_type": "display_data"
    }
   ],
   "source": [
    "# build simple linear regression with only one variable: carat\n",
    "# load csv input file\n",
    "diamond2 = pd.DataFrame.from_csv('diamond2.csv', header=0, sep=',', index_col=0, parse_dates=True, \n",
    "                                encoding=None, tupleize_cols=False, infer_datetime_format=False)\n",
    "diamond2['carat']=list(diamond2.index)\n",
    "# scatter plot\n",
    "sns.lmplot(x='carat',y='price',data=diamond2,fit_reg=True) "
   ]
  },
  {
   "cell_type": "code",
   "execution_count": 6,
   "metadata": {
    "collapsed": false
   },
   "outputs": [
    {
     "name": "stdout",
     "output_type": "stream",
     "text": [
      "Intercept    -259.625907\n",
      "carat        3721.024852\n",
      "dtype: float64\n",
      "                            OLS Regression Results                            \n",
      "==============================================================================\n",
      "Dep. Variable:                  price   R-squared:                       0.978\n",
      "Model:                            OLS   Adj. R-squared:                  0.978\n",
      "Method:                 Least Squares   F-statistic:                     2070.\n",
      "Date:                Tue, 21 Feb 2017   Prob (F-statistic):           6.75e-40\n",
      "Time:                        21:53:10   Log-Likelihood:                -233.20\n",
      "No. Observations:                  48   AIC:                             470.4\n",
      "Df Residuals:                      46   BIC:                             474.1\n",
      "Df Model:                           1                                         \n",
      "Covariance Type:            nonrobust                                         \n",
      "==============================================================================\n",
      "                 coef    std err          t      P>|t|      [95.0% Conf. Int.]\n",
      "------------------------------------------------------------------------------\n",
      "Intercept   -259.6259     17.319    -14.991      0.000      -294.487  -224.765\n",
      "carat       3721.0249     81.786     45.497      0.000      3556.398  3885.651\n",
      "==============================================================================\n",
      "Omnibus:                        0.739   Durbin-Watson:                   1.994\n",
      "Prob(Omnibus):                  0.691   Jarque-Bera (JB):                0.181\n",
      "Skew:                           0.056   Prob(JB):                        0.913\n",
      "Kurtosis:                       3.280   Cond. No.                         18.5\n",
      "==============================================================================\n",
      "\n",
      "Warnings:\n",
      "[1] Standard Errors assume that the covariance matrix of the errors is correctly specified.\n"
     ]
    }
   ],
   "source": [
    "# fit a basic linear regression model \n",
    "result = sm.ols(formula=\"price ~ carat\", data=diamond2).fit()\n",
    "print(result.params)\n",
    "print(result.summary())"
   ]
  },
  {
   "cell_type": "code",
   "execution_count": 7,
   "metadata": {
    "collapsed": false
   },
   "outputs": [
    {
     "name": "stdout",
     "output_type": "stream",
     "text": [
      "Intercept                     500.083333\n",
      "I(carat - np.mean(carat))    3721.024852\n",
      "dtype: float64\n",
      "                            OLS Regression Results                            \n",
      "==============================================================================\n",
      "Dep. Variable:                  price   R-squared:                       0.978\n",
      "Model:                            OLS   Adj. R-squared:                  0.978\n",
      "Method:                 Least Squares   F-statistic:                     2070.\n",
      "Date:                Tue, 21 Feb 2017   Prob (F-statistic):           6.75e-40\n",
      "Time:                        22:14:17   Log-Likelihood:                -233.20\n",
      "No. Observations:                  48   AIC:                             470.4\n",
      "Df Residuals:                      46   BIC:                             474.1\n",
      "Df Model:                           1                                         \n",
      "Covariance Type:            nonrobust                                         \n",
      "=============================================================================================\n",
      "                                coef    std err          t      P>|t|      [95.0% Conf. Int.]\n",
      "---------------------------------------------------------------------------------------------\n",
      "Intercept                   500.0833      4.596    108.814      0.000       490.833   509.334\n",
      "I(carat - np.mean(carat))  3721.0249     81.786     45.497      0.000      3556.398  3885.651\n",
      "==============================================================================\n",
      "Omnibus:                        0.739   Durbin-Watson:                   1.994\n",
      "Prob(Omnibus):                  0.691   Jarque-Bera (JB):                0.181\n",
      "Skew:                           0.056   Prob(JB):                        0.913\n",
      "Kurtosis:                       3.280   Cond. No.                         17.8\n",
      "==============================================================================\n",
      "\n",
      "Warnings:\n",
      "[1] Standard Errors assume that the covariance matrix of the errors is correctly specified.\n"
     ]
    }
   ],
   "source": [
    "# get a more interpretable intercept.\n",
    "# the intercept $500.1 is the expected price for the average sized diamond of the data (0.2041 carats)\n",
    "result2 = sm.ols(formula=\"price ~ I(carat-np.mean(carat))\", data=diamond2).fit()\n",
    "print(result2.params)\n",
    "print(result2.summary())"
   ]
  },
  {
   "cell_type": "code",
   "execution_count": 8,
   "metadata": {
    "collapsed": false
   },
   "outputs": [
    {
     "name": "stdout",
     "output_type": "stream",
     "text": [
      "Intercept       -259.625907\n",
      "I(carat * 10)    372.102485\n",
      "dtype: float64\n",
      "                            OLS Regression Results                            \n",
      "==============================================================================\n",
      "Dep. Variable:                  price   R-squared:                       0.978\n",
      "Model:                            OLS   Adj. R-squared:                  0.978\n",
      "Method:                 Least Squares   F-statistic:                     2070.\n",
      "Date:                Tue, 21 Feb 2017   Prob (F-statistic):           6.75e-40\n",
      "Time:                        22:14:27   Log-Likelihood:                -233.20\n",
      "No. Observations:                  48   AIC:                             470.4\n",
      "Df Residuals:                      46   BIC:                             474.1\n",
      "Df Model:                           1                                         \n",
      "Covariance Type:            nonrobust                                         \n",
      "=================================================================================\n",
      "                    coef    std err          t      P>|t|      [95.0% Conf. Int.]\n",
      "---------------------------------------------------------------------------------\n",
      "Intercept      -259.6259     17.319    -14.991      0.000      -294.487  -224.765\n",
      "I(carat * 10)   372.1025      8.179     45.497      0.000       355.640   388.565\n",
      "==============================================================================\n",
      "Omnibus:                        0.739   Durbin-Watson:                   1.994\n",
      "Prob(Omnibus):                  0.691   Jarque-Bera (JB):                0.181\n",
      "Skew:                           0.056   Prob(JB):                        0.913\n",
      "Kurtosis:                       3.280   Cond. No.                         9.66\n",
      "==============================================================================\n",
      "\n",
      "Warnings:\n",
      "[1] Standard Errors assume that the covariance matrix of the errors is correctly specified.\n"
     ]
    }
   ],
   "source": [
    "# Change scale from 1 carat to 0.1 carat. When diamond increases by 0.1 carat, \n",
    "# its predicted price is increased by $372.1\n",
    "result3 = sm.ols(formula=\"price ~ I(carat*10)\", data=diamond2).fit()\n",
    "print(result3.params)\n",
    "print(result3.summary())"
   ]
  },
  {
   "cell_type": "code",
   "execution_count": 9,
   "metadata": {
    "collapsed": true
   },
   "outputs": [],
   "source": [
    "#In sample and  Out of sample prediction\n",
    "x = diamond2['carat']\n",
    "y = diamond2['price']\n",
    "xnew = [0.36,0.38,0.40,0.42,0.44,0.50,0.54,0.58,0.62,0.66]\n",
    "xnew = list(diamond2['carat'])+xnew\n",
    "d = {'carat':xnew}\n",
    "dfnew = DataFrame(data=d)\n",
    "yprednew = result.predict(dfnew)"
   ]
  },
  {
   "cell_type": "code",
   "execution_count": 10,
   "metadata": {
    "collapsed": false
   },
   "outputs": [
    {
     "data": {
      "image/png": "[encoded data removed]",
      "text/plain": [
       "<matplotlib.figure.Figure at 0x2483c5c1c50>"
      ]
     },
     "metadata": {},
     "output_type": "display_data"
    }
   ],
   "source": [
    "# plot observed values and predicted values\n",
    "fig, ax = plt.subplots()\n",
    "ax.plot(x, y, 'o', label=\"Data\")\n",
    "ax.plot(xnew,yprednew, 'b-', label=\"Prediction\")\n",
    "ax.legend(loc=\"best\");"
   ]
  },
  {
   "cell_type": "code",
   "execution_count": null,
   "metadata": {
    "collapsed": true
   },
   "outputs": [],
   "source": []
  }
 ],
 "metadata": {
  "kernelspec": {
   "display_name": "Python 3",
   "language": "python",
   "name": "python3"
  },
  "language_info": {
   "codemirror_mode": {
    "name": "ipython",
    "version": 3
   },
   "file_extension": ".py",
   "mimetype": "text/x-python",
   "name": "python",
   "nbconvert_exporter": "python",
   "pygments_lexer": "ipython3",
   "version": "3.6.0"
  }
 },
 "nbformat": 4,
 "nbformat_minor": 2
}
